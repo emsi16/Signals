{
  "nbformat": 4,
  "nbformat_minor": 0,
  "metadata": {
    "colab": {
      "provenance": []
    },
    "kernelspec": {
      "name": "python3",
      "display_name": "Python 3"
    },
    "language_info": {
      "name": "python"
    }
  },
  "cells": [
    {
      "cell_type": "code",
      "execution_count": 1,
      "metadata": {
        "colab": {
          "base_uri": "https://localhost:8080/"
        },
        "id": "eD5zJ0CPgpoW",
        "outputId": "44e84536-0b25-468c-9ffc-1de0b6622241"
      },
      "outputs": [
        {
          "output_type": "stream",
          "name": "stdout",
          "text": [
            "[0.0, 2.93258474811939, 0.69850540083494, 1.53884176858763, -3.13702561365422, 3.46410161513776, -0.363271264002682, 4.36704788150753, -4.36704788150752, 0.363271264002679, -3.46410161513775, 3.13702561365421, -1.53884176858762, -0.698505400834956, -2.93258474811938, -3.61679099253293e-14, 2.93258474811938, 0.698505400834929, 1.53884176858763, -3.13702561365423, 3.46410161513776, -0.36327126400269, 4.36704788150754, -4.36704788150752, 0.363271264002675, -3.46410161513774, 3.13702561365419, -1.5388417685876, -0.698505400834949, -2.93258474811937, -7.23358198506586e-14, 2.93258474811942, 0.698505400834945, 1.53884176858762, -3.13702561365417, 3.46410161513774, -0.363271264002654, 4.36704788150748, -4.36704788150758, 0.363271264002744, -3.4641016151378, 3.13702561365439, -1.53884176858787, -0.698505400834732, -2.93258474811963, 4.59042280412392e-13, 2.93258474811905, 0.698505400835193, 1.5388417685872, -3.13702561365387, 3.46410161513763, -0.363271264002507, 4.36704788150734, -4.36704788150773, 0.363271264002901, -3.46410161513788, 3.1370256136547, -1.53884176858832, -0.698505400834482, -2.93258474811997]\n"
          ]
        }
      ],
      "source": [
        "#lab 3 zadanie dft\n",
        "\n",
        "import numpy as np\n",
        "from sympy import *\n",
        "import matplotlib.pyplot as plt\n",
        "from scipy.integrate import quad\n",
        "\n",
        "x = []\n",
        "with open('sygn.dat') as my_file:\n",
        "    for line in my_file:\n",
        "      val = line.replace('\\n', '')\n",
        "      if(val != ''):\n",
        "        x.append(float(val))\n",
        "\n",
        "print(x)  "
      ]
    },
    {
      "cell_type": "code",
      "source": [
        "sampling = len(x) #sampling\n",
        "timesampling = 4/sampling  #time sampling/ sampling interval\n",
        "\n",
        "t = np.arange(0,4,timesampling)\n",
        "print(sampling)\n",
        "print(t)\n",
        "print(timesampling)\n",
        "plt.plot(t, x, \"*\")\n"
      ],
      "metadata": {
        "colab": {
          "base_uri": "https://localhost:8080/",
          "height": 491
        },
        "id": "d72bGSrKgxWs",
        "outputId": "0209a397-f9de-477f-f7be-11db61e7c22c"
      },
      "execution_count": 2,
      "outputs": [
        {
          "output_type": "stream",
          "name": "stdout",
          "text": [
            "60\n",
            "[0.         0.06666667 0.13333333 0.2        0.26666667 0.33333333\n",
            " 0.4        0.46666667 0.53333333 0.6        0.66666667 0.73333333\n",
            " 0.8        0.86666667 0.93333333 1.         1.06666667 1.13333333\n",
            " 1.2        1.26666667 1.33333333 1.4        1.46666667 1.53333333\n",
            " 1.6        1.66666667 1.73333333 1.8        1.86666667 1.93333333\n",
            " 2.         2.06666667 2.13333333 2.2        2.26666667 2.33333333\n",
            " 2.4        2.46666667 2.53333333 2.6        2.66666667 2.73333333\n",
            " 2.8        2.86666667 2.93333333 3.         3.06666667 3.13333333\n",
            " 3.2        3.26666667 3.33333333 3.4        3.46666667 3.53333333\n",
            " 3.6        3.66666667 3.73333333 3.8        3.86666667 3.93333333]\n",
            "0.06666666666666667\n"
          ]
        },
        {
          "output_type": "execute_result",
          "data": {
            "text/plain": [
              "[<matplotlib.lines.Line2D at 0x7f6fb7c97e80>]"
            ]
          },
          "metadata": {},
          "execution_count": 2
        },
        {
          "output_type": "display_data",
          "data": {
            "text/plain": [
              "<Figure size 432x288 with 1 Axes>"
            ],
            "image/png": "[encoded data removed]"
          },
          "metadata": {
            "needs_background": "light"
          }
        }
      ]
    },
    {
      "cell_type": "code",
      "source": [
        "def DFT(x):\n",
        "    N = len(x)\n",
        "    n = np.arange(N)\n",
        "    k = n.reshape((N, 1))\n",
        "    e = np.exp(-2j * np.pi * k * n / N)\n",
        "    \n",
        "    X = np.dot(e, x)\n",
        "    \n",
        "    return X"
      ],
      "metadata": {
        "id": "FnKuPnlFgyXN"
      },
      "execution_count": 3,
      "outputs": []
    },
    {
      "cell_type": "code",
      "source": [
        "X=DFT(x)\n",
        "X\n",
        "print(np.round(X*10)/10)\n",
        "\n",
        "\n",
        "sampling = len(x) #sampling\n",
        "timesampling = 4/sampling  #time sampling/ sampling interval\n",
        "\n",
        "t = np.arange(0,4,timesampling)\n",
        "\n",
        "print(t)\n",
        "plt.plot(t, x, \"*\")\n"
      ],
      "metadata": {
        "colab": {
          "base_uri": "https://localhost:8080/",
          "height": 595
        },
        "id": "JwMRPXYxgzeR",
        "outputId": "f4280933-5262-4304-95d4-74c51ce50d14"
      },
      "execution_count": 4,
      "outputs": [
        {
          "output_type": "stream",
          "name": "stdout",
          "text": [
            "[ 0. +0.j  0. +0.j -0. +0.j -0. +0.j -0.-30.j  0. +0.j -0. +0.j -0. +0.j\n",
            " -0. +0.j -0. +0.j -0. +0.j  0. -0.j  0.-60.j  0. +0.j  0. +0.j  0. +0.j\n",
            " -0. +0.j -0. +0.j -0. +0.j -0. +0.j -0. +0.j -0. +0.j -0. +0.j -0. +0.j\n",
            " -0. +0.j -0. +0.j -0. +0.j  0. -0.j  0.-90.j  0. +0.j  0. +0.j  0. -0.j\n",
            "  0.+90.j  0. +0.j  0. +0.j  0. +0.j  0. +0.j  0. +0.j  0. +0.j  0. +0.j\n",
            "  0. +0.j  0. +0.j  0. +0.j  0. +0.j -0. +0.j -0. +0.j -0. +0.j  0. -0.j\n",
            "  0.+60.j  0. +0.j  0. +0.j  0. +0.j  0. +0.j  0. +0.j  0. +0.j -0. +0.j\n",
            "  0.+30.j -0. +0.j  0. +0.j -0. +0.j]\n",
            "[0.         0.06666667 0.13333333 0.2        0.26666667 0.33333333\n",
            " 0.4        0.46666667 0.53333333 0.6        0.66666667 0.73333333\n",
            " 0.8        0.86666667 0.93333333 1.         1.06666667 1.13333333\n",
            " 1.2        1.26666667 1.33333333 1.4        1.46666667 1.53333333\n",
            " 1.6        1.66666667 1.73333333 1.8        1.86666667 1.93333333\n",
            " 2.         2.06666667 2.13333333 2.2        2.26666667 2.33333333\n",
            " 2.4        2.46666667 2.53333333 2.6        2.66666667 2.73333333\n",
            " 2.8        2.86666667 2.93333333 3.         3.06666667 3.13333333\n",
            " 3.2        3.26666667 3.33333333 3.4        3.46666667 3.53333333\n",
            " 3.6        3.66666667 3.73333333 3.8        3.86666667 3.93333333]\n"
          ]
        },
        {
          "output_type": "execute_result",
          "data": {
            "text/plain": [
              "[<matplotlib.lines.Line2D at 0x7f6fb776b670>]"
            ]
          },
          "metadata": {},
          "execution_count": 4
        },
        {
          "output_type": "display_data",
          "data": {
            "text/plain": [
              "<Figure size 432x288 with 1 Axes>"
            ],
            "image/png": "[encoded data removed]"
          },
          "metadata": {
            "needs_background": "light"
          }
        }
      ]
    },
    {
      "cell_type": "code",
      "source": [
        "print(t)\n",
        "plt.plot(t, abs(X), \"*\")"
      ],
      "metadata": {
        "colab": {
          "base_uri": "https://localhost:8080/",
          "height": 456
        },
        "id": "xj-e1wL9g0pk",
        "outputId": "f753de48-94ad-43c4-c76a-7a7a93533089"
      },
      "execution_count": 5,
      "outputs": [
        {
          "output_type": "stream",
          "name": "stdout",
          "text": [
            "[0.         0.06666667 0.13333333 0.2        0.26666667 0.33333333\n",
            " 0.4        0.46666667 0.53333333 0.6        0.66666667 0.73333333\n",
            " 0.8        0.86666667 0.93333333 1.         1.06666667 1.13333333\n",
            " 1.2        1.26666667 1.33333333 1.4        1.46666667 1.53333333\n",
            " 1.6        1.66666667 1.73333333 1.8        1.86666667 1.93333333\n",
            " 2.         2.06666667 2.13333333 2.2        2.26666667 2.33333333\n",
            " 2.4        2.46666667 2.53333333 2.6        2.66666667 2.73333333\n",
            " 2.8        2.86666667 2.93333333 3.         3.06666667 3.13333333\n",
            " 3.2        3.26666667 3.33333333 3.4        3.46666667 3.53333333\n",
            " 3.6        3.66666667 3.73333333 3.8        3.86666667 3.93333333]\n"
          ]
        },
        {
          "output_type": "execute_result",
          "data": {
            "text/plain": [
              "[<matplotlib.lines.Line2D at 0x7f6fb7751340>]"
            ]
          },
          "metadata": {},
          "execution_count": 5
        },
        {
          "output_type": "display_data",
          "data": {
            "text/plain": [
              "<Figure size 432x288 with 1 Axes>"
            ],
            "image/png": "[encoded data removed]"
          },
          "metadata": {
            "needs_background": "light"
          }
        }
      ]
    },
    {
      "cell_type": "code",
      "source": [
        "N=len(X)\n",
        "n=np.arange(len(X))\n",
        "print(n)\n",
        "\n",
        "T = N/sampling\n",
        "frequency = n/T\n",
        "\n",
        "print(frequency)\n",
        "\n",
        "print(abs(X))\n",
        "plt.stem(frequency, abs(X), 'b', markerfmt = \" \", basefmt=\"-b\")"
      ],
      "metadata": {
        "colab": {
          "base_uri": "https://localhost:8080/",
          "height": 719
        },
        "id": "Zuq9ioWlg1uk",
        "outputId": "1f28a7eb-27b0-4aaf-fe64-52db54b2d225"
      },
      "execution_count": 6,
      "outputs": [
        {
          "output_type": "stream",
          "name": "stdout",
          "text": [
            "[ 0  1  2  3  4  5  6  7  8  9 10 11 12 13 14 15 16 17 18 19 20 21 22 23\n",
            " 24 25 26 27 28 29 30 31 32 33 34 35 36 37 38 39 40 41 42 43 44 45 46 47\n",
            " 48 49 50 51 52 53 54 55 56 57 58 59]\n",
            "[ 0.  1.  2.  3.  4.  5.  6.  7.  8.  9. 10. 11. 12. 13. 14. 15. 16. 17.\n",
            " 18. 19. 20. 21. 22. 23. 24. 25. 26. 27. 28. 29. 30. 31. 32. 33. 34. 35.\n",
            " 36. 37. 38. 39. 40. 41. 42. 43. 44. 45. 46. 47. 48. 49. 50. 51. 52. 53.\n",
            " 54. 55. 56. 57. 58. 59.]\n",
            "[4.71178652e-13 4.63713767e-13 4.42658835e-13 4.41440733e-13\n",
            " 3.00000000e+01 4.28502696e-13 5.61230290e-13 4.68771470e-13\n",
            " 6.23163136e-13 5.79686232e-13 9.26595746e-13 1.33053034e-12\n",
            " 6.00000000e+01 7.10784894e-13 5.85004167e-13 3.06671856e-13\n",
            " 3.89454706e-13 3.95567135e-13 5.54545855e-13 6.34804578e-13\n",
            " 8.18424663e-13 6.47340353e-13 9.87645254e-13 9.52337434e-13\n",
            " 1.39077335e-12 1.63023088e-12 2.42704137e-12 4.72439601e-12\n",
            " 9.00000000e+01 3.17729907e-12 6.89698778e-13 2.86378321e-12\n",
            " 9.00000000e+01 4.57362508e-12 2.43608808e-12 1.45245013e-12\n",
            " 1.24814640e-12 1.19660599e-12 7.85473985e-13 7.44310730e-13\n",
            " 7.20651521e-13 5.51668313e-13 5.92399084e-13 5.49657713e-13\n",
            " 2.49003908e-13 2.27623749e-13 2.03558717e-13 9.31064336e-13\n",
            " 6.00000000e+01 1.22626903e-12 9.29361225e-13 5.94604753e-13\n",
            " 7.66063237e-13 3.22697971e-13 7.97521084e-13 2.32134312e-13\n",
            " 3.00000000e+01 2.15169885e-13 3.81328520e-13 7.05374285e-13]\n"
          ]
        },
        {
          "output_type": "stream",
          "name": "stderr",
          "text": [
            "<ipython-input-6-8b5dce980881>:11: UserWarning: In Matplotlib 3.3 individual lines on a stem plot will be added as a LineCollection instead of individual lines. This significantly improves the performance of a stem plot. To remove this warning and switch to the new behaviour, set the \"use_line_collection\" keyword argument to True.\n",
            "  plt.stem(frequency, abs(X), 'b', markerfmt = \" \", basefmt=\"-b\")\n"
          ]
        },
        {
          "output_type": "execute_result",
          "data": {
            "text/plain": [
              "<StemContainer object of 3 artists>"
            ]
          },
          "metadata": {},
          "execution_count": 6
        },
        {
          "output_type": "display_data",
          "data": {
            "text/plain": [
              "<Figure size 432x288 with 1 Axes>"
            ],
            "image/png": "[encoded data removed]"
          },
          "metadata": {
            "needs_background": "light"
          }
        }
      ]
    },
    {
      "cell_type": "code",
      "source": [
        "n_oneside = N//2\n",
        "# get the one side frequency\n",
        "f_oneside = frequency[:n_oneside]\n",
        "\n",
        "# normalize the amplitude\n",
        "X_oneside =X[:n_oneside]/n_oneside\n",
        "\n",
        "plt.figure(figsize = (12, 6))\n",
        "plt.subplot(121)\n",
        "plt.stem(f_oneside, abs(X_oneside), 'b', \\\n",
        "         markerfmt=\" \", basefmt=\"-b\")\n",
        "plt.xlabel('Freq (Hz)')\n",
        "plt.ylabel('DFT Amplitude |X(freq)|')\n",
        "\n",
        "plt.subplot(122)\n",
        "plt.stem(f_oneside, abs(X_oneside), 'b', \\\n",
        "         markerfmt=\" \", basefmt=\"-b\")\n",
        "plt.xlabel('Freq (Hz)')\n",
        "plt.xlim(0, 30)\n",
        "plt.tight_layout()\n",
        "plt.show()"
      ],
      "metadata": {
        "colab": {
          "base_uri": "https://localhost:8080/",
          "height": 530
        },
        "id": "v0TF3M-ng3Ew",
        "outputId": "10a7afbd-4441-45b0-da53-4f4c6469ac80"
      },
      "execution_count": 7,
      "outputs": [
        {
          "output_type": "stream",
          "name": "stderr",
          "text": [
            "<ipython-input-7-58332a5704fb>:10: UserWarning: In Matplotlib 3.3 individual lines on a stem plot will be added as a LineCollection instead of individual lines. This significantly improves the performance of a stem plot. To remove this warning and switch to the new behaviour, set the \"use_line_collection\" keyword argument to True.\n",
            "  plt.stem(f_oneside, abs(X_oneside), 'b', \\\n",
            "<ipython-input-7-58332a5704fb>:16: UserWarning: In Matplotlib 3.3 individual lines on a stem plot will be added as a LineCollection instead of individual lines. This significantly improves the performance of a stem plot. To remove this warning and switch to the new behaviour, set the \"use_line_collection\" keyword argument to True.\n",
            "  plt.stem(f_oneside, abs(X_oneside), 'b', \\\n"
          ]
        },
        {
          "output_type": "display_data",
          "data": {
            "text/plain": [
              "<Figure size 864x432 with 2 Axes>"
            ],
            "image/png": "[encoded data removed]"
          },
          "metadata": {
            "needs_background": "light"
          }
        }
      ]
    }
  ]
}